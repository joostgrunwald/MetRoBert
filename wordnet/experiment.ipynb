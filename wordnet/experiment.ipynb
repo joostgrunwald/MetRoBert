{
 "cells": [
  {
   "cell_type": "markdown",
   "metadata": {},
   "source": [
    "The idea of this notebook is that we use some functions to find words inside of the Wordnet database. "
   ]
  },
  {
   "cell_type": "code",
   "execution_count": null,
   "metadata": {},
   "outputs": [],
   "source": [
    "#%pip install lxml"
   ]
  },
  {
   "cell_type": "code",
   "execution_count": 2,
   "metadata": {},
   "outputs": [],
   "source": [
    "from __init__ import Wn_grid_parser"
   ]
  },
  {
   "cell_type": "code",
   "execution_count": 3,
   "metadata": {
    "collapsed": true
   },
   "outputs": [],
   "source": [
    "self = Wn_grid_parser(Wn_grid_parser.odwn)"
   ]
  },
  {
   "cell_type": "code",
   "execution_count": 49,
   "metadata": {},
   "outputs": [],
   "source": [
    "# We declare some functions to handle the search of words\n",
    "def find_word(word, POS=None):\n",
    "    \"\"\" \n",
    "        This function tries to find a word inset the wordnet database. \n",
    "        arg word: the word we want to find as string\n",
    "        arg POS: the pos tag of the word.\n",
    "        if the pos tag is not specified we will look for multiple pos tags.\n",
    "        the output of hte function is the les_find_le if found inside the dataset, None otherwise\n",
    "    \"\"\"\n",
    "\n",
    "    entries = []\n",
    "\n",
    "    if POS is None:\n",
    "        for POS in [\"n\", \"v\", \"a\"]:\n",
    "            word2 = f'{word}-{POS}-'\n",
    "            for _ in range(20):\n",
    "                inputword = word2 + str(_)\n",
    "                word_el = self.les_find_le(inputword)\n",
    "                if (word_el) is not None:\n",
    "                    entries.append(word_el)\n",
    "    else:\n",
    "        if POS.lower() == \"noun\":\n",
    "            POS = \"n\"\n",
    "        elif POS.lower() in [\"verb\", \"werkwoord\", \"ww\"]:\n",
    "            POS = \"v\"\n",
    "        elif POS.lower() in [\"adjective\", \"adj\", \"adjectief\"]:\n",
    "            POS = \"a\"\n",
    "        else:\n",
    "            print(\"non existing POS tag supplied\")\n",
    "            return None            \n",
    "\n",
    "        word = f'{word}-{POS}-'\n",
    "        for _ in range(20):\n",
    "            inputword = word + str(_)\n",
    "            word_el = self.les_find_le(inputword)\n",
    "            if (word_el) is not None:\n",
    "                entries.append(word_el)\n",
    "\n",
    "    return entries"
   ]
  },
  {
   "cell_type": "code",
   "execution_count": 63,
   "metadata": {},
   "outputs": [
    {
     "name": "stdout",
     "output_type": "stream",
     "text": [
      "verdedigen (verb): beschermen \tsynset: odwn-10-108514463-v\n",
      "verdedigen (verb): je inzetten voor \tsynset: odwn-10-106947247-v\n",
      "verdedigen (verb): in de rechtbank \tsynset: eng-30-00895304-v\n",
      "verdedigen (verb): verdedigen in voetbal \tsynset: None\n"
     ]
    }
   ],
   "source": [
    "#we generate a list of word entries and print some data\n",
    "list_el = find_word(\"verdedigen\",\"ww\")\n",
    "for i in list_el:\n",
    "    print(f'{i.get_lemma()} ({i.get_pos()}): {i.get_definition()} \\tsynset: {i.get_synset_id()}' )\n",
    "    #print(i.get_sense_id())\n",
    "    #print(i.get_provenance())\n",
    "    #print(i.get_synset_id())"
   ]
  },
  {
   "cell_type": "code",
   "execution_count": 100,
   "metadata": {
    "collapsed": true
   },
   "outputs": [
    {
     "name": "stdout",
     "output_type": "stream",
     "text": [
      "None\n",
      "v\n",
      "['beschermen', 'protect']\n",
      "has_hyperonym (pwn): eng-30-01128193-v\n",
      "['behoeden', 'beschermen tegen weersinvloeden', 'behoeden', 'behoeden', 'shield from danger, injury, destruction, or damage', 'protect against weather', 'save']\n",
      "is_subevent_of (odwn): eng-30-01090335-v\n",
      "['vechten, strijden', 'een gevecht aangaan', 'vechten', 'strijd leveren', 'kampen', 'be engaged in a fight; carry on a fight', 'battle', 'camps', 'do battle', 'entering a fight', 'fighting , fights']\n",
      "None\n",
      "v\n",
      "['je inzetten voor', 'pleiten voor', 'advocate', 'you work for']\n",
      "has_hyperonym (pwn): eng-30-00895304-v\n",
      "['berechten, verdedigen', 'verdedigen in een geding', 'in de rechtbank', 'argue or speak in defense of', 'defend in proceedings', 'in court', 'judge , defend']\n",
      "i26092\n",
      "v\n",
      "['berechten, verdedigen', 'verdedigen in een geding', 'in de rechtbank', 'argue or speak in defense of', 'defend in proceedings', 'in court', 'judge , defend']\n",
      "has_hyperonym (pwn): eng-30-00772189-v\n",
      "['grondvesten', 'argumenten geven voor', 'op theorie e.d. Baseren', 'op iets baseren', 'staven', 'present reasons and arguments', 'bars', 'Basing on theory and the like', 'foundations', 'give arguments for', 'something base']\n",
      "has_hyperonym (odwn): eng-30-00664788-v\n",
      "['laten zien, bewijzen', 'aantonen', 'bewijzen', 'laten zien', 'establish the validity of something, as by an example, explanation or experiment', 'evidence', 'show', 'show , prove']\n",
      "has_hyperonym (odwn): eng-30-00939277-v\n",
      "['uitleggen', 'uitleggen', 'toelichten', 'toelichten', 'make plain and comprehensible', 'explain']\n",
      "has_hyperonym (odwn): eng-30-02581900-v\n",
      "['een proces voeren', 'conduct a prosecution in a court of law', 'execute a process']\n",
      "has_hyponym (pwn): odwn-10-106096886-v\n",
      "['je rechtvaardigen', 'you justify']\n",
      "has_hyponym (pwn): eng-30-00894738-v\n",
      "['goedkeuren', 'vergoelijken', 'billijken', 'rekenschap afleggen', 'goedpraten', 'legaliseren', 'defend, explain, clear away, or make excuses for by reasoning', 'accountable', 'approve', 'condone', 'justify', 'legalize', 'whitewash']\n",
      "has_hyponym (odwn): eng-30-00904046-v\n",
      "['verdedigen', 'pronounce not guilty of criminal charges', 'defend']\n",
      "has_hyponym (pwn): odwn-10-106947247-v\n",
      "['je inzetten voor', 'pleiten voor', 'advocate', 'you work for']\n",
      "has_hyponym (pwn): odwn-10-100472792-v\n",
      "['tot het uiterste verdedigen', 'to the hilt']\n",
      "has_hyponym (pwn): eng-30-00895641-v\n",
      "['defend against attack or criticism']\n",
      "has_hyponym (pwn): eng-30-00896017-v\n",
      "['stand up for; stick up for; of causes, principles, or ideals']\n"
     ]
    }
   ],
   "source": [
    "synset_el = self.synsets_find_synset('odwn-10-108514463-v')\n",
    "print(synset_el.get_ili())\n",
    "print(synset_el.get_pos())\n",
    "print(synset_el.get_glosses())\n",
    "\n",
    "relation_el = synset_el.get_all_relations()\n",
    "for i in relation_el:\n",
    "    print(f'{i.get_reltype()} ({i.get_provenance()}): {i.get_target()}')   \n",
    "    synset = self.synsets_find_synset(str(i.get_target()))\n",
    "    print(synset.get_glosses())\n",
    "\n",
    "synset_el = self.synsets_find_synset('odwn-10-106947247-v')\n",
    "print(synset_el.get_ili())\n",
    "print(synset_el.get_pos())\n",
    "print(synset_el.get_glosses())\n",
    "\n",
    "relation_el = synset_el.get_all_relations()\n",
    "for i in relation_el:\n",
    "    print(f'{i.get_reltype()} ({i.get_provenance()}): {i.get_target()}')   \n",
    "    synset = self.synsets_find_synset(str(i.get_target()))\n",
    "    print(synset.get_glosses())\n",
    "\n",
    "synset_el = self.synsets_find_synset('eng-30-00895304-v')\n",
    "print(synset_el.get_ili())\n",
    "print(synset_el.get_pos())\n",
    "print(synset_el.get_glosses())\n",
    "\n",
    "relation_el = synset_el.get_all_relations()\n",
    "for i in relation_el:\n",
    "    print(f'{i.get_reltype()} ({i.get_provenance()}): {i.get_target()}')   \n",
    "    synset = self.synsets_find_synset(str(i.get_target()))\n",
    "    print(synset.get_glosses())"
   ]
  }
 ],
 "metadata": {
  "kernelspec": {
   "display_name": "Python 3",
   "language": "python",
   "name": "python3"
  },
  "language_info": {
   "codemirror_mode": {
    "name": "ipython",
    "version": 3
   },
   "file_extension": ".py",
   "mimetype": "text/x-python",
   "name": "python",
   "nbconvert_exporter": "python",
   "pygments_lexer": "ipython3",
   "version": "3.8.8"
  }
 },
 "nbformat": 4,
 "nbformat_minor": 0
}
